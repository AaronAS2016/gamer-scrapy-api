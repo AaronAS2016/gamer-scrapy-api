{
 "cells": [
  {
   "cell_type": "markdown",
   "metadata": {
    "id": "4vzOkTwRYIb9"
   },
   "source": [
    "# <center>Estructura de Datos</center>\n",
    "#### <center>Informe del Trabajo Práctico</center>\n",
    "## <center>Universidad Nacional de Tres de Febrero</center>\n",
    "## <center>Black Mesa Devs</center>"
   ]
  },
  {
   "cell_type": "markdown",
   "metadata": {
    "id": "T9lRQOiSTqNX"
   },
   "source": [
    "### Decisiones de diseño\n",
    "Para acatar las consignas de este trabajo práctico, elegimos trabajar sobre sitios de ventas de videojuegos en formato digital. Particularmente <a href=\"https://store.steampowered.com/games/?l=latam\">Steam</a>, <a href=\"https://www.gog.com/\">GOG</a>, <a href=\"https://us.gamesplanet.com/\">Games Planet</a> y <a href=\"https://www.nuuvem.com/\">Nuuvem</a>. Otros sitios, como por ejemplo <a href=\"hhttps://www.humblebundle.com/\">Humble Bundle</a>, fueron omitidos por cuestiones de robots.txt.\n",
    "\n",
    "\n",
    "Decidimos hacer una aplicación web para poder tener una mejor interfaz para presentar los resultados que hagamos con Scrapy. íbamos a usar Flask pero por temas de compatibilidad con Scrapy fuimos por Klein\n",
    "\n",
    "\n",
    "Como cada sitio estructura sus páginas de manera particular, recurrimos a crear una spider específica para cada sitio, para poder lidiar mejor con estas diferencias estructurales.\n",
    "\n",
    "\n",
    "\n",
    "Para la búsqueda de “todas las palabras, algunas y exacta”, decidimos que en:\n",
    "todas: que la frase completa este en el título\n",
    "algunas: que alguna palabra de la frase esté en el título\n",
    "exactas: que solamente aparezca la frase, ni más ni menos\n",
    "\n",
    "\n"
   ]
  },
  {
   "cell_type": "markdown",
   "metadata": {},
   "source": [
    "<center>Análisis de sitios:</center>\n",
    "GOG: Este sitio carga los datos de la búsqueda con javascript, por lo que tuvimos que buscar en las requests la dirección de un json que nos otorgaba todos los datos pertinentes.\n",
    "\n",
    "Games Planet: Este sitio carga de manera estática y las categorías aparecen en la información del producto, pero a diferencia del resto, la búsqueda se mostraba en paginaciones.\n",
    "\n",
    "Nuuvem: \n",
    "\n",
    "Steam:  Este sitio carga de manera estática y las categorías aparecen en el detalle del producto, por lo tanto tuvimos que ingresar en cada página para poder obtener el dato, además tuvimos que definir una cookie para evitar la comprobación de edad que tiene Steam. Luego por temas de políticas de steam en cuanto a precios regionales, no pudimos obtener el precio en dolares, para que quede normalizado con el resto, convertimos a pesos, dividiéndolo por el dólar oficial."
   ]
  }
 ],
 "metadata": {
  "colab": {
   "collapsed_sections": [],
   "name": "Clase_6.ipynb",
   "provenance": []
  },
  "kernelspec": {
   "display_name": "Python 3",
   "language": "python",
   "name": "python3"
  },
  "language_info": {
   "codemirror_mode": {
    "name": "ipython",
    "version": 3
   },
   "file_extension": ".py",
   "mimetype": "text/x-python",
   "name": "python",
   "nbconvert_exporter": "python",
   "pygments_lexer": "ipython3",
   "version": "3.8.5"
  }
 },
 "nbformat": 4,
 "nbformat_minor": 4
}
